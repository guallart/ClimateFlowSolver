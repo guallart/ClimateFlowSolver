{
 "cells": [
  {
   "cell_type": "code",
   "execution_count": 3,
   "metadata": {},
   "outputs": [],
   "source": [
    "from sympy import *"
   ]
  },
  {
   "cell_type": "code",
   "execution_count": 7,
   "metadata": {},
   "outputs": [],
   "source": [
    "x, y, z = symbols(\"x y z\")\n",
    "u, v, w = symbols(\"u v w\")\n",
    "rho, p, E = symbols(\"rho p E\")\n",
    "gamma, g = symbols(\"gamma g\")\n",
    "\n",
    "eq1 = Derivative(rho*u, x) + Derivative(rho*v, y) + Derivative(rho*w, z)\n",
    "eq2 = Derivative(rho*u**2+p, x) + Derivative(rho*u*v, y) + Derivative(rho*u*w, z)\n",
    "eq3 = Derivative(rho*u*v, x) + Derivative(rho*v**2+p, y) + Derivative(rho*v*w, z)\n",
    "eq4 = Derivative(rho*u*w, x) + Derivative(rho*v*w, y) + Derivative(rho*w**2+p, z) + rho*g\n",
    "eq5 = Derivative(u*(rho*E+p), x) + Derivative(v*(rho*E+p), y) + Derivative(w*(rho*E+p), z) + rho*w*g\n",
    "eq6 = (gamma - 1)*rho*(E - (u*u+v*v+w*w)/2)\n"
   ]
  }
 ],
 "metadata": {
  "kernelspec": {
   "display_name": "base",
   "language": "python",
   "name": "python3"
  },
  "language_info": {
   "codemirror_mode": {
    "name": "ipython",
    "version": 3
   },
   "file_extension": ".py",
   "mimetype": "text/x-python",
   "name": "python",
   "nbconvert_exporter": "python",
   "pygments_lexer": "ipython3",
   "version": "3.9.20"
  }
 },
 "nbformat": 4,
 "nbformat_minor": 2
}
